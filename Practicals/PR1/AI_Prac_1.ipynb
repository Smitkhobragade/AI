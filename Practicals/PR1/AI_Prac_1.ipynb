{
  "nbformat": 4,
  "nbformat_minor": 0,
  "metadata": {
    "colab": {
      "provenance": []
    },
    "kernelspec": {
      "name": "python3",
      "display_name": "Python 3"
    },
    "language_info": {
      "name": "python"
    }
  },
  "cells": [
    {
      "cell_type": "markdown",
      "source": [
        "#### WAP to implement Tic Tac Toe Game. This problem is a generalised problem of Cross or Circle. reprent the problem by using 3x3 matrix. Player 1 is a user and player 2 is computer. Automatic game play will stop ither anyone wins the game or Game draws."
      ],
      "metadata": {
        "id": "ScLOv8J8HOQy"
      }
    },
    {
      "cell_type": "code",
      "source": [
        "import random"
      ],
      "metadata": {
        "id": "dmVNFZ5iLAxX"
      },
      "execution_count": null,
      "outputs": []
    },
    {
      "cell_type": "code",
      "execution_count": null,
      "metadata": {
        "colab": {
          "base_uri": "https://localhost:8080/"
        },
        "id": "blV-PtVnHLx6",
        "outputId": "4279e3c5-0053-47c7-b207-1bdf4d2545fa"
      },
      "outputs": [
        {
          "output_type": "stream",
          "name": "stdout",
          "text": [
            "Intialised\n"
          ]
        },
        {
          "output_type": "execute_result",
          "data": {
            "text/plain": [
              "[[0, 0, 0], [0, 0, 0], [0, 0, 0]]"
            ]
          },
          "metadata": {},
          "execution_count": 10
        }
      ],
      "source": [
        "board = []\n",
        "def initialise():\n",
        "  board = [\n",
        "    [0,0,0],\n",
        "    [0,0,0],\n",
        "    [0,0,0]\n",
        "  ]\n",
        "  print(\"Intialised\")\n",
        "  return board\n",
        "\n",
        "board = initialise()\n",
        "board"
      ]
    },
    {
      "cell_type": "code",
      "source": [
        "def usermove():\n",
        "  x = int(input())\n",
        "  y = int(input())\n",
        "  if(board[x][y] == 0):\n",
        "    board[x][y] = 1\n",
        "  else:\n",
        "    print(\"Spot Occupied Already\")\n",
        "    usermove()"
      ],
      "metadata": {
        "id": "0wI89i-aHul7"
      },
      "execution_count": null,
      "outputs": []
    },
    {
      "cell_type": "code",
      "source": [
        "usermove()\n",
        "board"
      ],
      "metadata": {
        "colab": {
          "base_uri": "https://localhost:8080/"
        },
        "id": "S3YzT0QpI_5r",
        "outputId": "210f1309-add7-41b0-eefa-ced56f43ff5b"
      },
      "execution_count": null,
      "outputs": [
        {
          "name": "stdout",
          "output_type": "stream",
          "text": [
            "0\n",
            "0\n"
          ]
        },
        {
          "output_type": "execute_result",
          "data": {
            "text/plain": [
              "[[1, 0, 0], [0, 0, 0], [0, 0, 0]]"
            ]
          },
          "metadata": {},
          "execution_count": 12
        }
      ]
    },
    {
      "cell_type": "code",
      "source": [
        "board = initialise()\n",
        "board"
      ],
      "metadata": {
        "colab": {
          "base_uri": "https://localhost:8080/"
        },
        "id": "yd5e_Gt6JHHt",
        "outputId": "b61a528a-37c1-41f3-8719-c8e94c5c19df"
      },
      "execution_count": null,
      "outputs": [
        {
          "output_type": "stream",
          "name": "stdout",
          "text": [
            "Intialised\n"
          ]
        },
        {
          "output_type": "execute_result",
          "data": {
            "text/plain": [
              "[[0, 0, 0], [0, 0, 0], [0, 0, 0]]"
            ]
          },
          "metadata": {},
          "execution_count": 13
        }
      ]
    },
    {
      "cell_type": "code",
      "source": [
        "def computermove():\n",
        "  x = random.randint(0, 2)\n",
        "  y = random.randint(0, 2)\n",
        "  if(board[x][y] == 0):\n",
        "    board[x][y] = 2\n",
        "    print(\"Computer Played\")\n",
        "  else:\n",
        "    computermove()"
      ],
      "metadata": {
        "id": "GL9sGjWvJhRC"
      },
      "execution_count": null,
      "outputs": []
    },
    {
      "cell_type": "code",
      "source": [
        "computermove()\n",
        "board"
      ],
      "metadata": {
        "colab": {
          "base_uri": "https://localhost:8080/"
        },
        "id": "eDGm5xNvLO8R",
        "outputId": "34358f66-5c91-4551-e1b0-72f0dc8ca643"
      },
      "execution_count": null,
      "outputs": [
        {
          "output_type": "stream",
          "name": "stdout",
          "text": [
            "Computer Played\n"
          ]
        },
        {
          "output_type": "execute_result",
          "data": {
            "text/plain": [
              "[[0, 2, 2], [2, 0, 2], [0, 2, 2]]"
            ]
          },
          "metadata": {},
          "execution_count": 22
        }
      ]
    },
    {
      "cell_type": "code",
      "source": [
        "def won(ch):\n",
        "  if(board[0][0]==board[0][1] and board[0][1]==board[0][2] and ch==board[0][0]):\n",
        "    return True\n",
        "  if(board[1][0]==board[1][1] and board[1][1]==board[1][2] and ch==board[1][0]):\n",
        "    return True\n",
        "  if(board[2][0]==board[2][1] and board[2][1]==board[2][2] and ch==board[2][0]):\n",
        "    return True\n",
        "  if(board[0][0]==board[1][0] and board[1][0]==board[2][0] and ch==board[0][0]):\n",
        "    return True\n",
        "  if(board[0][1]==board[1][1] and board[1][1]==board[2][1] and ch==board[0][1]):\n",
        "    return True\n",
        "  if(board[0][2]==board[1][2] and board[1][2]==board[2][2] and ch==board[0][2]):\n",
        "    return True\n",
        "  if(board[0][0]==board[1][1] and board[1][1]==board[2][2] and ch==board[0][0]):\n",
        "    return True\n",
        "  if(board[0][2]==board[1][1] and board[1][1]==board[2][0] and ch==board[0][2]):\n",
        "    return True\n",
        "\n",
        "  return False"
      ],
      "metadata": {
        "id": "czG7SV3jNKhR"
      },
      "execution_count": null,
      "outputs": []
    },
    {
      "cell_type": "code",
      "source": [
        "def showmat():\n",
        "  for i in board:\n",
        "    for j in i:\n",
        "      print(j, end=\" \")\n",
        "    print()\n",
        "\n",
        "  print()\n"
      ],
      "metadata": {
        "id": "ucy5_81MPlDa"
      },
      "execution_count": null,
      "outputs": []
    },
    {
      "cell_type": "code",
      "source": [
        "def playgame():\n",
        "  # board = initialise()\n",
        "  for i in range(0,8):\n",
        "    if(i%2 == 0):\n",
        "      usermove()\n",
        "      showmat()\n",
        "      if(won(1)):\n",
        "        print(\"User Won\")\n",
        "        return\n",
        "    else:\n",
        "      computermove()\n",
        "      showmat()\n",
        "      if(won(2)):\n",
        "        print(\"Computer Won\")\n",
        "        return\n",
        "\n",
        "  print(\"Tie Between Players\")"
      ],
      "metadata": {
        "id": "CVNntgm2LpmA"
      },
      "execution_count": null,
      "outputs": []
    },
    {
      "cell_type": "code",
      "source": [
        "showmat()"
      ],
      "metadata": {
        "colab": {
          "base_uri": "https://localhost:8080/"
        },
        "id": "-xo1e0wuPZM6",
        "outputId": "f7393842-bd35-4092-b4f6-d111fbf609ff"
      },
      "execution_count": null,
      "outputs": [
        {
          "output_type": "stream",
          "name": "stdout",
          "text": [
            "1 0 0 \n",
            "0 0 0 \n",
            "0 0 0 \n",
            "\n"
          ]
        }
      ]
    },
    {
      "cell_type": "code",
      "source": [
        "board = initialise()\n",
        "playgame()"
      ],
      "metadata": {
        "colab": {
          "base_uri": "https://localhost:8080/"
        },
        "id": "kLYjXp6MQCtg",
        "outputId": "de31e786-ed14-4d58-c168-b35cdec20e96"
      },
      "execution_count": null,
      "outputs": [
        {
          "output_type": "stream",
          "name": "stdout",
          "text": [
            "Intialised\n",
            "0\n",
            "0\n",
            "1 0 0 \n",
            "0 0 0 \n",
            "0 0 0 \n",
            "\n",
            "Computer Played\n",
            "1 0 2 \n",
            "0 0 0 \n",
            "0 0 0 \n",
            "\n",
            "1\n",
            "0\n",
            "1 0 2 \n",
            "1 0 0 \n",
            "0 0 0 \n",
            "\n",
            "Computer Played\n",
            "1 0 2 \n",
            "1 0 0 \n",
            "0 0 2 \n",
            "\n",
            "2\n",
            "0\n",
            "1 0 2 \n",
            "1 0 0 \n",
            "1 0 2 \n",
            "\n",
            "User Won\n"
          ]
        }
      ]
    },
    {
      "cell_type": "code",
      "source": [
        "board = initialise()\n",
        "playgame()"
      ],
      "metadata": {
        "colab": {
          "base_uri": "https://localhost:8080/"
        },
        "id": "iJCAvMlyQIbf",
        "outputId": "34599773-2e8f-4954-d969-2f8b5a28862e"
      },
      "execution_count": null,
      "outputs": [
        {
          "output_type": "stream",
          "name": "stdout",
          "text": [
            "Intialised\n",
            "0\n",
            "0\n",
            "1 0 0 \n",
            "0 0 0 \n",
            "0 0 0 \n",
            "\n",
            "Computer Played\n",
            "1 0 0 \n",
            "0 0 0 \n",
            "2 0 0 \n",
            "\n",
            "1\n",
            "1\n",
            "1 0 0 \n",
            "0 1 0 \n",
            "2 0 0 \n",
            "\n",
            "Computer Played\n",
            "1 0 0 \n",
            "0 1 0 \n",
            "2 2 0 \n",
            "\n",
            "0\n",
            "2\n",
            "1 0 1 \n",
            "0 1 0 \n",
            "2 2 0 \n",
            "\n",
            "Computer Played\n",
            "1 0 1 \n",
            "2 1 0 \n",
            "2 2 0 \n",
            "\n",
            "1\n",
            "2\n",
            "1 0 1 \n",
            "2 1 1 \n",
            "2 2 0 \n",
            "\n",
            "Computer Played\n",
            "1 0 1 \n",
            "2 1 1 \n",
            "2 2 2 \n",
            "\n",
            "Computer Won\n"
          ]
        }
      ]
    },
    {
      "cell_type": "code",
      "source": [
        "board = initialise()\n",
        "playgame()"
      ],
      "metadata": {
        "colab": {
          "base_uri": "https://localhost:8080/"
        },
        "id": "5cxGgK-dRotw",
        "outputId": "cc4e2ba0-0ff3-4761-d05a-161df36dc922"
      },
      "execution_count": null,
      "outputs": [
        {
          "output_type": "stream",
          "name": "stdout",
          "text": [
            "Intialised\n",
            "1\n",
            "1\n",
            "0 0 0 \n",
            "0 1 0 \n",
            "0 0 0 \n",
            "\n",
            "Computer Played\n",
            "0 0 0 \n",
            "0 1 0 \n",
            "2 0 0 \n",
            "\n",
            "2\n",
            "1\n",
            "0 0 0 \n",
            "0 1 0 \n",
            "2 1 0 \n",
            "\n",
            "Computer Played\n",
            "0 0 0 \n",
            "2 1 0 \n",
            "2 1 0 \n",
            "\n",
            "0\n",
            "0\n",
            "1 0 0 \n",
            "2 1 0 \n",
            "2 1 0 \n",
            "\n",
            "Computer Played\n",
            "1 0 0 \n",
            "2 1 2 \n",
            "2 1 0 \n",
            "\n",
            "0\n",
            "2\n",
            "1 0 1 \n",
            "2 1 2 \n",
            "2 1 0 \n",
            "\n",
            "Computer Played\n",
            "1 0 1 \n",
            "2 1 2 \n",
            "2 1 2 \n",
            "\n",
            "Tie Between Players\n"
          ]
        }
      ]
    },
    {
      "cell_type": "code",
      "source": [
        "import time\n",
        "def computermove1():\n",
        "  x = random.randint(0, 2)\n",
        "  y = random.randint(0, 2)\n",
        "  if(board[x][y] == 0):\n",
        "    board[x][y] = 1\n",
        "    print(\"Computer1 Played\")\n",
        "  else:\n",
        "    computermove1()\n",
        "\n",
        "def computermove2():\n",
        "  x = random.randint(0, 2)\n",
        "  y = random.randint(0, 2)\n",
        "  if(board[x][y] == 0):\n",
        "    board[x][y] = 2\n",
        "    print(\"Computer2 Played\")\n",
        "  else:\n",
        "    computermove2()\n",
        "\n",
        "\n",
        "def playgame():\n",
        "  # board = initialise()\n",
        "  for i in range(0,9):\n",
        "    if(i%2 == 0):\n",
        "      time.sleep(1)\n",
        "      computermove1()\n",
        "      showmat()\n",
        "      if(won(1)):\n",
        "        print(\"Computer 1 Won\")\n",
        "        return\n",
        "    else:\n",
        "      time.sleep(1)\n",
        "      computermove2()\n",
        "      showmat()\n",
        "      if(won(2)):\n",
        "        print(\"Computer 2 Won\")\n",
        "        return\n",
        "\n",
        "  print(\"Tie Between Players\")"
      ],
      "metadata": {
        "id": "hZAjkg6aS9GY"
      },
      "execution_count": null,
      "outputs": []
    },
    {
      "cell_type": "code",
      "source": [
        "board = initialise()\n",
        "playgame()"
      ],
      "metadata": {
        "colab": {
          "base_uri": "https://localhost:8080/"
        },
        "id": "kNXMO1lCUIu6",
        "outputId": "d82a37d2-d6dd-465b-eb6d-71c7321bd92e"
      },
      "execution_count": null,
      "outputs": [
        {
          "output_type": "stream",
          "name": "stdout",
          "text": [
            "Intialised\n",
            "Computer1 Played\n",
            "0 1 0 \n",
            "0 0 0 \n",
            "0 0 0 \n",
            "\n",
            "Computer2 Played\n",
            "0 1 0 \n",
            "0 0 0 \n",
            "0 2 0 \n",
            "\n",
            "Computer1 Played\n",
            "0 1 0 \n",
            "0 0 0 \n",
            "1 2 0 \n",
            "\n",
            "Computer2 Played\n",
            "0 1 0 \n",
            "2 0 0 \n",
            "1 2 0 \n",
            "\n",
            "Computer1 Played\n",
            "1 1 0 \n",
            "2 0 0 \n",
            "1 2 0 \n",
            "\n",
            "Computer2 Played\n",
            "1 1 2 \n",
            "2 0 0 \n",
            "1 2 0 \n",
            "\n",
            "Computer1 Played\n",
            "1 1 2 \n",
            "2 0 0 \n",
            "1 2 1 \n",
            "\n",
            "Computer2 Played\n",
            "1 1 2 \n",
            "2 2 0 \n",
            "1 2 1 \n",
            "\n",
            "Computer1 Played\n",
            "1 1 2 \n",
            "2 2 1 \n",
            "1 2 1 \n",
            "\n",
            "Tie Between Players\n"
          ]
        }
      ]
    },
    {
      "cell_type": "code",
      "source": [],
      "metadata": {
        "id": "1S2OSxghUMNg"
      },
      "execution_count": null,
      "outputs": []
    }
  ]
}